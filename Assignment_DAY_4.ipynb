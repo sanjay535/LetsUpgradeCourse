{
 "cells": [
  {
   "cell_type": "code",
   "execution_count": 6,
   "metadata": {},
   "outputs": [],
   "source": [
    "compList=[1,1,5]\n",
    "\n",
    "def sublistMatch(lst):\n",
    "    j=0\n",
    "    count=0\n",
    "    for i in range(0, len(lst)):\n",
    "         if lst[i]==compList[j]:\n",
    "                count+=1\n",
    "                j+=1\n",
    "        \n",
    "    if count==len(compList):\n",
    "        print(\"It's a Match\")\n",
    "    else:\n",
    "        print(\"It's Gone\")\n"
   ]
  },
  {
   "cell_type": "code",
   "execution_count": 7,
   "metadata": {},
   "outputs": [
    {
     "name": "stdout",
     "output_type": "stream",
     "text": [
      "It's a Match\n"
     ]
    }
   ],
   "source": [
    "# driver code here\n",
    "lst=[1,5,6,4,1,2,3,5]      \n",
    "sublistMatch(lst)"
   ]
  },
  {
   "cell_type": "code",
   "execution_count": 8,
   "metadata": {},
   "outputs": [
    {
     "name": "stdout",
     "output_type": "stream",
     "text": [
      "It's Gone\n"
     ]
    }
   ],
   "source": [
    "lst=[1,5,6,5,1,2,3,6]\n",
    "sublistMatch(lst)"
   ]
  },
  {
   "cell_type": "code",
   "execution_count": null,
   "metadata": {},
   "outputs": [],
   "source": []
  },
  {
   "cell_type": "code",
   "execution_count": null,
   "metadata": {},
   "outputs": [],
   "source": []
  }
 ],
 "metadata": {
  "kernelspec": {
   "display_name": "Python 3",
   "language": "python",
   "name": "python3"
  },
  "language_info": {
   "codemirror_mode": {
    "name": "ipython",
    "version": 3
   },
   "file_extension": ".py",
   "mimetype": "text/x-python",
   "name": "python",
   "nbconvert_exporter": "python",
   "pygments_lexer": "ipython3",
   "version": "3.6.8"
  }
 },
 "nbformat": 4,
 "nbformat_minor": 2
}
