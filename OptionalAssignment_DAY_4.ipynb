{
 "cells": [
  {
   "cell_type": "code",
   "execution_count": 41,
   "metadata": {},
   "outputs": [
    {
     "name": "stdout",
     "output_type": "stream",
     "text": [
      "Enetr string for encryption : All-convoYs-9-be:Alert1.\n",
      "Enetr key for encryption : 4\n",
      "<class 'int'>\n",
      "cipher=Epp-gsrzsCw-3-fi:Epivx5.\n"
     ]
    }
   ],
   "source": [
    "istr=input(\"Enetr string for encryption : \")\n",
    "k=int(input(\"Enetr key for encryption : \"))\n",
    "cipher=\"\"\n",
    "\n",
    "print(type(count))\n",
    "for i in range(0, len(istr)):\n",
    "    if istr[i]>='A' and istr[i]<='Z':\n",
    "        cipher+=chr(ord('A')+((ord(istr[i])-65)+k%26)%26)\n",
    "        \n",
    "    elif istr[i]>='a' and istr[i]<='z':\n",
    "        cipher+=chr(ord('a')+((ord(istr[i])-97)+k%26)%26)\n",
    "    \n",
    "    elif istr[i]>='0' and istr[i]<='9':\n",
    "        cipher+=chr(ord('0')+((ord(istr[i])-ord('0'))+k%10)%10)\n",
    "              \n",
    "    else:\n",
    "        cipher+=istr[i]\n",
    "print(\"cipher=\"+cipher)"
   ]
  }
 ],
 "metadata": {
  "kernelspec": {
   "display_name": "Python 3",
   "language": "python",
   "name": "python3"
  },
  "language_info": {
   "codemirror_mode": {
    "name": "ipython",
    "version": 3
   },
   "file_extension": ".py",
   "mimetype": "text/x-python",
   "name": "python",
   "nbconvert_exporter": "python",
   "pygments_lexer": "ipython3",
   "version": "3.6.8"
  }
 },
 "nbformat": 4,
 "nbformat_minor": 2
}
