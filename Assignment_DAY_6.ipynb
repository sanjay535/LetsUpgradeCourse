{
 "cells": [
  {
   "cell_type": "markdown",
   "metadata": {},
   "source": [
    "# Question(1)"
   ]
  },
  {
   "cell_type": "code",
   "execution_count": 6,
   "metadata": {},
   "outputs": [
    {
     "name": "stdout",
     "output_type": "stream",
     "text": [
      "user meassage :  not writable\n"
     ]
    }
   ],
   "source": [
    "try:\n",
    "    file=open(\"index.txt\",'r')\n",
    "    file.write(\"I am learning python\")\n",
    "except Exception as e:\n",
    "    print(\"user meassage : \",e)\n",
    "finally:\n",
    "    file.close()"
   ]
  },
  {
   "cell_type": "markdown",
   "metadata": {},
   "source": [
    "# Question(2)"
   ]
  },
  {
   "cell_type": "markdown",
   "metadata": {},
   "source": [
    "pylint check  code"
   ]
  },
  {
   "cell_type": "code",
   "execution_count": 21,
   "metadata": {},
   "outputs": [
    {
     "name": "stdout",
     "output_type": "stream",
     "text": [
      "Overwriting check_primality.py\n"
     ]
    }
   ],
   "source": [
    "%%writefile check_primality.py\n",
    "'''\n",
    "Code to check primality of number\n",
    "'''\n",
    "N = int(input(\"Enter number to check prime or not\"))\n",
    "i = 2\n",
    "while i*i <= N:\n",
    "    if N%i == 0:\n",
    "        print(\"Number is prime\")\n",
    "        break\n",
    "print(\"Number is not prime\")"
   ]
  },
  {
   "cell_type": "code",
   "execution_count": 22,
   "metadata": {},
   "outputs": [
    {
     "name": "stdout",
     "output_type": "stream",
     "text": [
      "\r\n",
      "-------------------------------------------------------------------\r\n",
      "Your code has been rated at 10.00/10 (previous run: 8.57/10, +1.43)\r\n",
      "\r\n"
     ]
    }
   ],
   "source": [
    "!pylint check_primality.py "
   ]
  },
  {
   "cell_type": "code",
   "execution_count": 32,
   "metadata": {},
   "outputs": [
    {
     "name": "stdout",
     "output_type": "stream",
     "text": [
      "Overwriting unit_test_primality\n"
     ]
    }
   ],
   "source": [
    "%%writefile unit_test_primality\n",
    "def checkPrime(N):\n",
    "    '''\n",
    "    using unit test check primality\n",
    "    '''\n",
    "    i = 2\n",
    "    while i*i <= N:\n",
    "        if N%i == 0:\n",
    "            print(\"Number is prime\")\n",
    "            break\n",
    "    print(\"Number is not prime\")\n",
    "checkPrime(5)    \n"
   ]
  },
  {
   "cell_type": "code",
   "execution_count": null,
   "metadata": {},
   "outputs": [],
   "source": [
    "! python unit_test_primality"
   ]
  },
  {
   "cell_type": "code",
   "execution_count": null,
   "metadata": {},
   "outputs": [],
   "source": []
  }
 ],
 "metadata": {
  "kernelspec": {
   "display_name": "Python 3",
   "language": "python",
   "name": "python3"
  },
  "language_info": {
   "codemirror_mode": {
    "name": "ipython",
    "version": 3
   },
   "file_extension": ".py",
   "mimetype": "text/x-python",
   "name": "python",
   "nbconvert_exporter": "python",
   "pygments_lexer": "ipython3",
   "version": "3.7.6"
  }
 },
 "nbformat": 4,
 "nbformat_minor": 4
}
