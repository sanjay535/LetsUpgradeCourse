{
 "cells": [
  {
   "cell_type": "markdown",
   "metadata": {},
   "source": [
    "# Question(1)"
   ]
  },
  {
   "cell_type": "code",
   "execution_count": 1,
   "metadata": {},
   "outputs": [
    {
     "name": "stdout",
     "output_type": "stream",
     "text": [
      "Enter marks you got45\n",
      "45\n",
      "|---------|\n",
      "|    E    |\n",
      "|---------|\n"
     ]
    }
   ],
   "source": [
    "inputNumber=int(input(\"Enter marks you got\"))\n",
    "print(inputNumber)\n",
    "\n",
    "if inputNumber > 80 and inputNumber <= 100:\n",
    "    print(\"|---------|\")\n",
    "    print(\"|    A    |\")\n",
    "    print(\"|---------|\")\n",
    "elif inputNumber>70 and inputNumber<=75:\n",
    "    print(\"|---------|\")\n",
    "    print(\"|    B    |\")\n",
    "    print(\"|---------|\")\n",
    "elif inputNumber>60 and inputNumber<=70:\n",
    "    print(\"|---------|\")\n",
    "    print(\"|    C    |\")\n",
    "    print(\"|---------|\")\n",
    "elif inputNumber>50 and inputNumber<=60:\n",
    "    print(\"|---------|\")\n",
    "    print(\"|    D    |\")\n",
    "    print(\"|---------|\")\n",
    "elif inputNumber>40 and inputNumber<=50:\n",
    "    print(\"|---------|\")\n",
    "    print(\"|    E    |\")\n",
    "    print(\"|---------|\")\n",
    "else :\n",
    "    print(\"|---------|\")\n",
    "    print(\"|  Fail   |\")\n",
    "    print(\"|---------|\")\n",
    "\n",
    "        \n",
    "    "
   ]
  },
  {
   "cell_type": "markdown",
   "metadata": {},
   "source": [
    "# Question(2)"
   ]
  },
  {
   "cell_type": "code",
   "execution_count": null,
   "metadata": {},
   "outputs": [
    {
     "name": "stdout",
     "output_type": "stream",
     "text": [
      "Enetr 'Y' for play or 'N'Y\n",
      "24\n",
      "Enter guess number14\n",
      "You don't watch that much!:p\n",
      "108\n"
     ]
    }
   ],
   "source": [
    "from random import randint\n",
    "play= input(\"Enetr 'Y' for play or 'N'\")\n",
    "while play =='Y':\n",
    "    rndm=randint(1,250)\n",
    "#     print(rndm)\n",
    "    guess=int(input(\"Enter guess number\"))\n",
    "    \n",
    "    if (guess-10) == rndm:\n",
    "        print(\"Close By,You are true Indian Fan!\")\n",
    "    elif (guess+10)==rndm:\n",
    "        print(\"You don't watch that much!:p\")\n",
    "    else:\n",
    "        play=input(\"Enter 'Y' for play again else enetr 'N'\")\n",
    "        "
   ]
  },
  {
   "cell_type": "markdown",
   "metadata": {},
   "source": [
    "# Question(3)"
   ]
  },
  {
   "cell_type": "code",
   "execution_count": 1,
   "metadata": {},
   "outputs": [],
   "source": [
    "# file handling\n",
    "file=open(\"index.txt\",'w')\n",
    "file.write(\"I Love FCS\")\n",
    "file.close()"
   ]
  },
  {
   "cell_type": "code",
   "execution_count": 3,
   "metadata": {},
   "outputs": [
    {
     "name": "stdout",
     "output_type": "stream",
     "text": [
      "I Love FCS\n"
     ]
    }
   ],
   "source": [
    "file=open(\"index.txt\",'r')\n",
    "temp=file.read()\n",
    "print(temp)"
   ]
  },
  {
   "cell_type": "markdown",
   "metadata": {},
   "source": [
    "# Question(4)"
   ]
  },
  {
   "cell_type": "code",
   "execution_count": 5,
   "metadata": {},
   "outputs": [
    {
     "name": "stdout",
     "output_type": "stream",
     "text": [
      "Enter 'L'10\n",
      "Enter 'N'2\n",
      "Enetr 'W'6\n",
      "Enter 'H'9\n",
      "UPLOAD ANOTHER\n",
      "Enetr 'W'10\n",
      "Enter 'H'10\n",
      "ACCEPTED\n"
     ]
    }
   ],
   "source": [
    "l=int(input(\"Enter 'L'\"))\n",
    "n=int(input(\"Enter 'N'\"))\n",
    "for i in range(0,n):\n",
    "    w=int(input(\"Enetr 'W'\"))\n",
    "    h=int(input(\"Enter 'H'\"))\n",
    "    if w<l or h<l:\n",
    "        print(\"UPLOAD ANOTHER\")\n",
    "    elif w>=l and h>=l:\n",
    "        if w==l and h==l:\n",
    "            print(\"ACCEPTED\")\n",
    "        else:\n",
    "            print(\"CROP IT\")"
   ]
  },
  {
   "cell_type": "markdown",
   "metadata": {},
   "source": [
    "# Question(5)"
   ]
  },
  {
   "cell_type": "code",
   "execution_count": 11,
   "metadata": {},
   "outputs": [
    {
     "name": "stdout",
     "output_type": "stream",
     "text": [
      "input string contain L R U DUU\n",
      "final postion  0 2\n"
     ]
    }
   ],
   "source": [
    "istr=input(\"input string contain L R U D\")\n",
    "# intial position \n",
    "x=0\n",
    "y=0\n",
    "for i in range(0, len(istr)):\n",
    "    if istr[i]=='L':\n",
    "        x=x-1\n",
    "    elif istr[i]=='R':\n",
    "        x=x+1\n",
    "    elif istr[i]=='U':\n",
    "        y=y+1\n",
    "    else:\n",
    "        y=y-1\n",
    "print(\"final postion \",x,y)        "
   ]
  },
  {
   "cell_type": "code",
   "execution_count": null,
   "metadata": {},
   "outputs": [],
   "source": []
  }
 ],
 "metadata": {
  "kernelspec": {
   "display_name": "Python 3",
   "language": "python",
   "name": "python3"
  },
  "language_info": {
   "codemirror_mode": {
    "name": "ipython",
    "version": 3
   },
   "file_extension": ".py",
   "mimetype": "text/x-python",
   "name": "python",
   "nbconvert_exporter": "python",
   "pygments_lexer": "ipython3",
   "version": "3.6.8"
  }
 },
 "nbformat": 4,
 "nbformat_minor": 2
}
